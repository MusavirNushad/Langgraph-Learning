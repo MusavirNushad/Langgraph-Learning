{
 "cells": [
  {
   "cell_type": "markdown",
   "id": "952b0ada",
   "metadata": {},
   "source": [
    "### **Blog Write Using Prompt Chaining**"
   ]
  },
  {
   "cell_type": "code",
   "execution_count": 3,
   "id": "af2bf4ab",
   "metadata": {},
   "outputs": [],
   "source": [
    "from langgraph.graph import StateGraph, START, END\n",
    "from langchain_huggingface import ChatHuggingFace, HuggingFaceEndpoint\n",
    "from typing import TypedDict\n",
    "from dotenv import load_dotenv\n",
    "import os"
   ]
  },
  {
   "cell_type": "code",
   "execution_count": 4,
   "id": "e4829827",
   "metadata": {},
   "outputs": [
    {
     "data": {
      "text/plain": [
       "True"
      ]
     },
     "execution_count": 4,
     "metadata": {},
     "output_type": "execute_result"
    }
   ],
   "source": [
    "load_dotenv()"
   ]
  },
  {
   "cell_type": "code",
   "execution_count": 5,
   "id": "668b87fa",
   "metadata": {},
   "outputs": [],
   "source": [
    "# Get the Hugging Face token from the environment\n",
    "hf_token = os.getenv(\"HUGGINGFACE_HUB_TOKEN\")\n",
    "\n",
    "# Check if token is loaded properly\n",
    "if not hf_token:\n",
    "    raise ValueError(\"HUGGINGFACE_HUB_TOKEN is not set in the environment!\")"
   ]
  },
  {
   "cell_type": "code",
   "execution_count": 7,
   "id": "2c5a43c1",
   "metadata": {},
   "outputs": [],
   "source": [
    "llm = HuggingFaceEndpoint(\n",
    "    repo_id=\"moonshotai/Kimi-K2-Instruct\",\n",
    "    task=\"text-generation\",\n",
    "    huggingfacehub_api_token=hf_token,\n",
    ")"
   ]
  },
  {
   "cell_type": "code",
   "execution_count": 8,
   "id": "dc57f51c",
   "metadata": {},
   "outputs": [],
   "source": [
    "model = ChatHuggingFace(llm=llm)"
   ]
  },
  {
   "cell_type": "code",
   "execution_count": 9,
   "id": "246fc573",
   "metadata": {},
   "outputs": [],
   "source": [
    "class BlogState(TypedDict):\n",
    "    title: str\n",
    "    outline: str\n",
    "    content: str"
   ]
  },
  {
   "cell_type": "code",
   "execution_count": 10,
   "id": "35a2deb0",
   "metadata": {},
   "outputs": [],
   "source": [
    "def create_outline(state: BlogState) -> BlogState:\n",
    "    title = state['title']\n",
    "    prompt = f\"Create an outline for a blog post titled: {title}\"\n",
    "    outline = model.invoke(prompt).content\n",
    "    state['outline'] = outline\n",
    "    return state"
   ]
  },
  {
   "cell_type": "code",
   "execution_count": 11,
   "id": "c0a33733",
   "metadata": {},
   "outputs": [],
   "source": [
    "def create_blog(state: BlogState) -> BlogState:\n",
    "    outline = state['outline']\n",
    "    prompt = f\"Write a blog post based on the following outline:{outline}\"\n",
    "    content = model.invoke(prompt).content\n",
    "    state['content'] = content\n",
    "    return state"
   ]
  },
  {
   "cell_type": "code",
   "execution_count": 12,
   "id": "c45675f9",
   "metadata": {},
   "outputs": [],
   "source": [
    "graph = StateGraph(BlogState)\n",
    "\n",
    "# graph nodes\n",
    "graph.add_node('create_outline', create_outline)\n",
    "graph.add_node('create_blog', create_blog)\n",
    "\n",
    "# graph edges\n",
    "graph.add_edge(START, 'create_outline')\n",
    "graph.add_edge('create_outline', 'create_blog')\n",
    "graph.add_edge('create_blog', END)  \n",
    "\n",
    "workflow = graph.compile()"
   ]
  },
  {
   "cell_type": "code",
   "execution_count": 13,
   "id": "1eb27608",
   "metadata": {},
   "outputs": [
    {
     "name": "stdout",
     "output_type": "stream",
     "text": [
      "Title: The Future of Pakistan – A 360° Outlook to 2040  \n",
      "Subtitle: From Demographic Dividend to Digital Diplomacy – Scenarios, Signals & Strategies\n",
      "\n",
      "1. Hook & Premise  \n",
      "It’s 8:07 a.m. on a sweltering July morning in 2040. An autonomous electric rickshaw—painted in neon truck-art livery—glides past a rooftop bazaar where drones drop off solar-panel micro-inverters. An AI traffic cop hologram politely waves a delivery bot out of the BRT lane. A street kid sells NFTs of the city skyline from a QR-coded bracelet. The scene feels both familiar and alien.  \n",
      "\n",
      "Will Pakistan leapfrog into this kind of livable sci-fi, or will the same street be grid-locked by blackouts, water riots, and surveillance drones? The answer depends on how skillfully the country converts its three super-assets—youth, geography, and diaspora—into sustainable value over the next 16 years.\n",
      "\n",
      "2. Executive Snapshot (TL;DR)  \n",
      "• Pakistan could add $1 trillion to global GDP by 2040 if it rides its demographic wave and climate-tech boom.  \n",
      "• Four divergent futures—Green Crescent, Silk Road Boomtown, Fortress Indus, Fragmented Futures—hinge on governance quality and social cohesion.  \n",
      "• Early signals in 2024-2027 (first NASDAQ unicorn IPO, mandatory climate-risk disclosure, TikTok “Digital Amnesty”) will tell us which path we’re on.\n",
      "\n",
      "[Infographic placeholder: Pakistan 2040 at a Glance – 245 m population, $1.8 T GDP, $50 B tech exports, Climate Risk Index 7.2]\n",
      "\n",
      "3. Methodology – How We Looked Ahead  \n",
      "We used the STEEP-V lens (Social, Technological, Economic, Environmental, Political, Values) and convened a Delphi panel of 30 Pakistani futurists, venture partners, climate scientists, and—yes—truck-art artists who read cultural tea leaves better than most economists. We then mapped scenarios along two axes: Governance Quality (low ↔ high) and Social Cohesion (fractured ↔ unified).\n",
      "\n",
      "4. Megatrends Shaping Pakistan 2024-2040  \n",
      "4.1 Demographic Dividend on Steroids  \n",
      "By 2035, 150 million Pakistanis will be under 30. Urbanization will hit 55 %, birthing 15 new “million-cities.” The median age in Karachi will be 25; in Berlin, 47.  \n",
      "\n",
      "4.2 Climate Cascade  \n",
      "The Hindu Kush will lose one-third of its glacial volume by 2050. Heat domes topping 50 °C will push 10 million internal climate migrants toward the Indus corridor.  \n",
      "\n",
      "4.3 Geo-Economic Realignment  \n",
      "CPEC 2.0 pivots from roads to data centers. Gulf sovereign funds eye green hydrogen in Balochistan. BRICS+ membership gives Pakistan a seat at the new Bretton Woods.  \n",
      "\n",
      "4.4 Digital Leapfrogging  \n",
      "5G saturation arrives by 2028. Urdu large-language models power everything from madrassa chatbots to court transcription. Micro-entrepreneurs sell memes and merchandise to global Gen-Z audiences.  \n",
      "\n",
      "4.5 Values in Flux  \n",
      "“Sufi-Start-up” culture blends spiritual minimalism with hustle ethos. Gen-Z reclaims faith as open-source ethics. Women’s labor-force participation jumps from 22 % to 38 %, turbo-charging household incomes.\n",
      "\n",
      "5. Four Plausible Scenarios to 2040  \n",
      "A. Green Crescent  \n",
      "Federal tech cities run on micro-grids. Agri-tech drones spray biochar over salt-stressed farms. Pakistan becomes the world’s fifth-largest seller of carbon credits, financing universal basic assets.  \n",
      "\n",
      "B. Silk Road Boomtown  \n",
      "Gwadar rivals Dubai for logistics throughput. Data-center corridor cools servers with chilled Arabian seawater. Yet Gini coefficients explode; gated “cloud enclaves” overlook sprawling migrant slums.  \n",
      "\n",
      "C. Fortress Indus  \n",
      "Security-first state funnels 8 % of GDP into surveillance. Internet is semi-closed; VPNs are the new currency. Remittances keep the lights on, but innovation stalls.  \n",
      "\n",
      "D. Fragmented Futures  \n",
      "Sub-regional fiefdoms issue their own stablecoins. Climate refugees create floating neighborhoods on the Indus. Crypto-governed enclaves experiment with quadratic voting and liquid democracy.\n",
      "\n",
      "6. Deep-Dive Spotlights  \n",
      "6.1 Economy – From BPO to IPO  \n",
      "Pakistani SaaS firms, born out of 2020s freelance boom, hit $50 B in exports by 2040. Verticals: Islamic fintech compliance, climate-risk APIs, Urdu NLP engines. The first IPO on NASDAQ is a female-founded reg-tech unicorn.  \n",
      "\n",
      "6.2 Energy – 80 % Renewables  \n",
      "Micro-grids in Thar run on solar-plus-salt-battery storage. Indus hydro cascades feed green-hydrogen plants for export to Japan. Net-metering households sell surplus power back to the grid.  \n",
      "\n",
      "6.3 Education – AI Tutors Everywhere  \n",
      "Madrassas deploy AI tutors that teach coding via Quranic parables. Elite schools abandon A-Levels for nano-credentials stackable into global micro-masters. A 14-year-old from Muzaffargarh wins a Stanford scholarship with an AI-designed water-harvesting drone.  \n",
      "\n",
      "6.4 Health – Tele-Clinics on Motorbikes  \n",
      "CRISPR trials at Shifa International slash thalassemia rates by 70 %. Motorbike labs carry portable ultrasound and cloud-linked diagnostics to flood-hit villages. Average life expectancy rises to 74.  \n",
      "\n",
      "6.5 Culture – Esports Olympics Lahore  \n",
      "Punjabi-Korean fusion dramas top Netflix charts. Lahore hosts the 2038 Esports Olympics; Pakistan’s all-female Valorant team takes gold. Truck-art NFTs sell for six figures in Seoul galleries.  \n",
      "\n",
      "6.6 Gender – 30 % Female Unicorns  \n",
      "“She-EO” visas lure diaspora women back with fast-track citizenship and zero-capital-gains on startups. By 2040, 30 % of Pakistani unicorns have female founders.  \n",
      "\n",
      "6.7 Security – Drone Diplomacy  \n",
      "Border patrol uses AI drones that speak Pashto and Dari to de-escalate smuggler standoffs. Cyber-militias formed by ethical hackers neutralize ransomware cartels targeting hospitals.\n",
      "\n",
      "7. Risks & Black Swans  \n",
      "• Kashmir flashpoint 2.0 triggers AI-generated sectarian deepfakes that go viral before fact-checkers wake up.  \n",
      "• A 7.8 quake in the Islamabad-Rawalpindi belt liquefies the Margalla foothills.  \n",
      "• IMF refuses a crypto-bailout after a scandal involving tokenized wheat subsidies.\n",
      "\n",
      "8. Early Signals to Watch (2024-2027)  \n",
      "• First Pakistani unicorn IPO on NASDAQ (ticker: PAKAI).  \n",
      "• PSX mandates climate-risk disclosure for all listed firms.  \n",
      "• TikTok ban reversed via “Digital Amnesty” that taxes creators instead of censoring them.  \n",
      "• 3D-printed mosque in Gwadar uses desert-sand geopolymer.\n",
      "\n",
      "9. Citizen Playbook – How You Can Engage  \n",
      "1. Contribute to an open-source Urdu dataset on Hugging Face.  \n",
      "2. Vote in local body elections—municipal budgets decide if your street gets a micro-grid.  \n",
      "3. Buy green sukuk; 6 % yield plus mangroves planted in your name.  \n",
      "4. Mentor a girl coder through the “She-EO Circles” Discord.  \n",
      "5. Plant a 100-tree Miyawaki forest in your neighborhood park.  \n",
      "\n",
      "Download the Personal 2040 Vision Board template (PDF) and share it on Instagram with #MyPakistan2040.\n",
      "\n",
      "10. Call to Conversation  \n",
      "Drop your own scenario in the comments. Which future are you betting on? Vote in the poll below. Next week: “Pakistani Diaspora 2040 – From Remittances to Regenerative Finance.”\n",
      "\n",
      "11. Further Reading & Data Sources  \n",
      "• World Bank Pakistan@100 report (2023 update)  \n",
      "• UNDP GLOF hazard maps (2024)  \n",
      "• MIT Media Lab Urdu LLM whitepaper v3.2  \n",
      "• Zameen.com price heat-maps (Q1 2024)  \n",
      "• NIC Karachi startup database (API access)\n",
      "\n",
      "12. SEO & Sharing Pack  \n",
      "Keywords: Pakistan 2040, future of Pakistani economy, climate-resilient Pakistan, Pakistani startups.  \n",
      "Meta description (150 chars): “Explore four futures for Pakistan by 2040—green tech, digital leapfrogs, and climate survival.”  \n",
      "Click-to-tweet:  \n",
      "“Green Crescent or Fragmented Futures? Pakistan 2040 is ours to code. Read the 360° outlook and pick your scenario. #Pakistan2040”\n"
     ]
    }
   ],
   "source": [
    "\n",
    "initial_state = {    \"title\": \"Future of Pakistan\"}\n",
    "final_state = workflow.invoke(initial_state)\n",
    "print(final_state['content'])"
   ]
  }
 ],
 "metadata": {
  "kernelspec": {
   "display_name": "myenv",
   "language": "python",
   "name": "python3"
  },
  "language_info": {
   "codemirror_mode": {
    "name": "ipython",
    "version": 3
   },
   "file_extension": ".py",
   "mimetype": "text/x-python",
   "name": "python",
   "nbconvert_exporter": "python",
   "pygments_lexer": "ipython3",
   "version": "3.11.3"
  }
 },
 "nbformat": 4,
 "nbformat_minor": 5
}
