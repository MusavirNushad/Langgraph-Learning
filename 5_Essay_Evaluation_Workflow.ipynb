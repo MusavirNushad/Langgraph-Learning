{
 "cells": [
  {
   "cell_type": "markdown",
   "id": "e68e21a0",
   "metadata": {},
   "source": [
    "# Parallel Workflow for Essay Evaluation"
   ]
  },
  {
   "cell_type": "code",
   "execution_count": 60,
   "id": "2f59307e",
   "metadata": {},
   "outputs": [],
   "source": [
    "# Parallel Workflow for Essay Evaluation\n",
    "from langgraph.graph import StateGraph, START, END\n",
    "from langchain_huggingface import ChatHuggingFace, HuggingFaceEndpoint\n",
    "from typing import TypedDict, Annotated\n",
    "from dotenv import load_dotenv\n",
    "from pydantic import BaseModel, Field\n",
    "import operator\n",
    "import json\n",
    "import os"
   ]
  },
  {
   "cell_type": "code",
   "execution_count": 61,
   "id": "0f8c6e5a",
   "metadata": {},
   "outputs": [
    {
     "data": {
      "text/plain": [
       "True"
      ]
     },
     "execution_count": 61,
     "metadata": {},
     "output_type": "execute_result"
    }
   ],
   "source": [
    "load_dotenv()"
   ]
  },
  {
   "cell_type": "code",
   "execution_count": 62,
   "id": "6b482b20",
   "metadata": {},
   "outputs": [],
   "source": [
    "# Get the Hugging Face token from the environment\n",
    "hf_token = os.getenv(\"HUGGINGFACE_HUB_TOKEN\")\n",
    "\n",
    "# Check if token is loaded properly\n",
    "if not hf_token:\n",
    "    raise ValueError(\"HUGGINGFACE_HUB_TOKEN is not set in the environment!\")"
   ]
  },
  {
   "cell_type": "code",
   "execution_count": 63,
   "id": "f756c5d9",
   "metadata": {},
   "outputs": [],
   "source": [
    "llm = HuggingFaceEndpoint(\n",
    "    repo_id=\"moonshotai/Kimi-K2-Instruct\",\n",
    "    task=\"text-generation\",\n",
    "    huggingfacehub_api_token=hf_token,\n",
    ")"
   ]
  },
  {
   "cell_type": "code",
   "execution_count": 64,
   "id": "c304a92a",
   "metadata": {},
   "outputs": [],
   "source": [
    "# Wrap the LLM in a chat interface\n",
    "model = ChatHuggingFace(llm=llm)"
   ]
  },
  {
   "cell_type": "code",
   "execution_count": 65,
   "id": "7a93d92d",
   "metadata": {},
   "outputs": [
    {
     "data": {
      "text/plain": [
       "'Use this while working with OpenAI/Antropic structured supported Models'"
      ]
     },
     "execution_count": 65,
     "metadata": {},
     "output_type": "execute_result"
    }
   ],
   "source": [
    "\"\"\"Use this while working with OpenAI/Antropic structured supported Models\"\"\"\n",
    "# class EvaluationSchema(BaseModel):\n",
    "#     feedback: str = Field(description=\"Detailed Feedback for the essay\")\n",
    "#     score: int = Field(description=\"Score out of 10\", ge=0, le=10)"
   ]
  },
  {
   "cell_type": "code",
   "execution_count": 66,
   "id": "0fe01c12",
   "metadata": {},
   "outputs": [],
   "source": [
    "# structured_model = model.with_structured_output(EvaluationSchema)"
   ]
  },
  {
   "cell_type": "code",
   "execution_count": 67,
   "id": "3310c9db",
   "metadata": {},
   "outputs": [],
   "source": [
    "essay = \"\"\"Artificial Intelligence (AI) is rapidly transforming the modern world, influencing industries, governance, and everyday life. From voice assistants and personalized recommendations to autonomous vehicles and predictive healthcare, AI is now embedded in the very fabric of human progress. As we advance into the Fourth Industrial Revolution, AI promises to redefine the way we work, learn, and interact with technology. Its potential to address critical challenges—such as climate change, resource management, and access to quality healthcare and education—marks it as a cornerstone of future development.\n",
    "\n",
    "However, the future of AI also brings with it significant challenges. The fear of job displacement due to automation, increasing data privacy concerns, ethical dilemmas in algorithmic decision-making, and the growing digital divide between nations and communities highlight the complex risks associated with unchecked AI proliferation. Additionally, the use of AI in warfare, surveillance, and misinformation campaigns poses threats to democratic institutions and global security. Without robust regulatory frameworks, AI may amplify existing inequalities and create new forms of discrimination and dependence.\n",
    "\n",
    "To ensure a balanced and beneficial future, a human-centric and ethical approach to AI is essential. Governments, academia, and industry must collaborate to build inclusive AI systems, prioritize transparency, and invest in public awareness and skill development. For a country like India, with its demographic advantage and growing digital infrastructure, AI offers an unprecedented opportunity to leapfrog into a knowledge-based economy. With proactive policymaking, responsible innovation, and a focus on equity, AI can become a force for social good and sustainable development.\"\"\"\n"
   ]
  },
  {
   "cell_type": "code",
   "execution_count": 68,
   "id": "546f523e",
   "metadata": {},
   "outputs": [],
   "source": [
    "class EssayState(TypedDict):\n",
    "    essay: str\n",
    "    language_feedback: str\n",
    "    analysis_feedback: str\n",
    "    clarity_feedback: str\n",
    "    overall_feedback: str\n",
    "    individual_scores: Annotated[list, operator.add]\n",
    "    avg_score: float\n"
   ]
  },
  {
   "cell_type": "code",
   "execution_count": 69,
   "id": "a1649c75",
   "metadata": {},
   "outputs": [],
   "source": [
    "def parse_json_response(response_content):\n",
    "    \"\"\"Helper function to parse JSON from model response\"\"\"\n",
    "    try:\n",
    "        start = response_content.find('{')\n",
    "        end = response_content.rfind('}') + 1\n",
    "        json_str = response_content[start:end]\n",
    "        return json.loads(json_str)\n",
    "    except (json.JSONDecodeError, ValueError) as e:\n",
    "        print(f\"Failed to parse JSON: {e}\")\n",
    "        # Return default values if parsing fails\n",
    "        return {\"feedback\": \"Unable to generate feedback\", \"score\": 0}"
   ]
  },
  {
   "cell_type": "code",
   "execution_count": 70,
   "id": "fafe892c",
   "metadata": {},
   "outputs": [],
   "source": [
    "def evaluate_language(state: EssayState):\n",
    "    prompt = f\"\"\"\n",
    "    Evaluate the following essay for language and grammar. Provide detailed feedback and a score out of 10.\n",
    "\n",
    "    Essay:\n",
    "    {state['essay']}\n",
    "\n",
    "    Respond in the following JSON format:\n",
    "    {{\n",
    "      \"feedback\": \"<your feedback here>\",\n",
    "      \"score\": <score between 0 and 10>\n",
    "    }}\n",
    "    \"\"\"\n",
    "    \n",
    "    response = model.invoke(prompt)\n",
    "    data = parse_json_response(response.content)\n",
    "    \n",
    "    return {\n",
    "        'language_feedback': data['feedback'],\n",
    "        'individual_scores': [data['score']]\n",
    "    }\n",
    "\n",
    "def evaluate_analysis(state: EssayState):\n",
    "    prompt = f\"\"\"\n",
    "    Evaluate the following essay for analytical depth and argumentation. Provide detailed feedback and a score out of 10.\n",
    "\n",
    "    Essay:\n",
    "    {state['essay']}\n",
    "\n",
    "    Respond in the following JSON format:\n",
    "    {{\n",
    "      \"feedback\": \"<your feedback here>\",\n",
    "      \"score\": <score between 0 and 10>\n",
    "    }}\n",
    "    \"\"\"\n",
    "    \n",
    "    response = model.invoke(prompt)\n",
    "    data = parse_json_response(response.content)\n",
    "    \n",
    "    return {\n",
    "        'analysis_feedback': data['feedback'],\n",
    "        'individual_scores': [data['score']]\n",
    "    }\n",
    "\n",
    "def evaluate_clarity(state: EssayState):\n",
    "    prompt = f\"\"\"\n",
    "    Evaluate the following essay for clarity and structure. Provide detailed feedback and a score out of 10.\n",
    "\n",
    "    Essay:\n",
    "    {state['essay']}\n",
    "\n",
    "    Respond in the following JSON format:\n",
    "    {{\n",
    "      \"feedback\": \"<your feedback here>\",\n",
    "      \"score\": <score between 0 and 10>\n",
    "    }}\n",
    "    \"\"\"\n",
    "    \n",
    "    response = model.invoke(prompt)\n",
    "    data = parse_json_response(response.content)\n",
    "    \n",
    "    return {\n",
    "        'clarity_feedback': data['feedback'],\n",
    "        'individual_scores': [data['score']]\n",
    "    }\n",
    "\n",
    "def final_evaluation(state: EssayState)->EssayState:\n",
    "    # Calculate the average score\n",
    "    avg_score = sum(state['individual_scores']) / len(state['individual_scores'])\n",
    "    \n",
    "    # Compile overall feedback\n",
    "    overall_feedback = (\n",
    "        f\"Language Feedback: {state['language_feedback']}\\n\\n\"\n",
    "        f\"Analysis Feedback: {state['analysis_feedback']}\\n\\n\"\n",
    "        f\"Clarity Feedback: {state['clarity_feedback']}\\n\\n\"\n",
    "        f\"Individual Scores: {state['individual_scores']}\\n\"\n",
    "        f\"Average Score: {avg_score:.2f}/10\"\n",
    "    )\n",
    "    \n",
    "    return {\n",
    "        'avg_score': avg_score,\n",
    "        'overall_feedback': overall_feedback\n",
    "    }"
   ]
  },
  {
   "cell_type": "code",
   "execution_count": 71,
   "id": "153c8e3d",
   "metadata": {},
   "outputs": [
    {
     "data": {
      "text/plain": [
       "<langgraph.graph.state.StateGraph at 0x2785ff4d950>"
      ]
     },
     "execution_count": 71,
     "metadata": {},
     "output_type": "execute_result"
    }
   ],
   "source": [
    "\n",
    "# Create the graph\n",
    "graph = StateGraph(EssayState)\n",
    "\n",
    "# Add nodes\n",
    "graph.add_node('evaluate_language', evaluate_language)\n",
    "graph.add_node('evaluate_analysis', evaluate_analysis)\n",
    "graph.add_node('evaluate_clarity', evaluate_clarity)\n",
    "graph.add_node('final_evaluation', final_evaluation)\n",
    "\n",
    "# Add edges for parallel execution\n",
    "graph.add_edge(START, 'evaluate_language')\n",
    "graph.add_edge(START, 'evaluate_analysis')\n",
    "graph.add_edge(START, 'evaluate_clarity')\n",
    "\n",
    "# All evaluation nodes feed into final evaluation\n",
    "graph.add_edge('evaluate_language', 'final_evaluation')\n",
    "graph.add_edge('evaluate_analysis', 'final_evaluation')\n",
    "graph.add_edge('evaluate_clarity', 'final_evaluation')\n",
    "\n",
    "graph.add_edge('final_evaluation', END)"
   ]
  },
  {
   "cell_type": "code",
   "execution_count": 72,
   "id": "b6b61cfc",
   "metadata": {},
   "outputs": [],
   "source": [
    "# Compile and run the workflow\n",
    "workflow = graph.compile()\n",
    "\n",
    "# Initialize state with proper structure\n",
    "initial_state = {\n",
    "    'essay': essay,\n",
    "    'language_feedback': '',\n",
    "    'analysis_feedback': '',\n",
    "    'clarity_feedback': '',\n",
    "    'overall_feedback': '',\n",
    "    'individual_scores': [],\n",
    "    'avg_score': 0.0\n",
    "}\n",
    "\n",
    "\n",
    "    "
   ]
  },
  {
   "cell_type": "code",
   "execution_count": 73,
   "id": "65b7f982",
   "metadata": {},
   "outputs": [
    {
     "name": "stdout",
     "output_type": "stream",
     "text": [
      "===  Essay Evaluation Results ===\n",
      "Language Feedback: Overall, the essay demonstrates excellent command of academic English. Sentence structures are varied and sophisticated, vocabulary is precise and contextually appropriate, and transitions between ideas are smooth. Minor points to note: (1) The phrase “embedded in the very fabric of human progress” is slightly clichéd; consider a fresher metaphor. (2) In the second paragraph, the long list of challenges could be broken into two sentences for better readability. (3) The final sentence is grammatically correct but slightly wordy; tightening it would enhance impact. No spelling, punctuation, or agreement errors were detected. The tone remains consistently formal and objective.\n",
      "\n",
      "Analysis Feedback: The essay is well-structured and covers the key dimensions of the AI debate—promise, peril, and policy. However, it remains largely descriptive rather than analytical. Each paragraph lists phenomena (voice assistants, job loss, surveillance, etc.) without interrogating underlying mechanisms, trade-offs, or counter-arguments. For example, the claim that AI can ‘address climate change’ is asserted but not unpacked: which specific AI techniques, under what conditions, and with what rebound effects? Similarly, the discussion of job displacement cites a common fear but does not engage with empirical studies on task re-composition, reskilling rates, or historical precedents. The ethical section gestures at ‘algorithmic decision-making’ but never distinguishes between disparate impact, procedural fairness, or epistemic opacity, nor does it weigh competing normative frameworks (utilitarian vs. rights-based). The policy prescription is a high-level call for ‘collaboration’ and ‘transparency’ without detailing incentive structures, enforcement mechanisms, or the geopolitical tensions that complicate multilateral governance. Finally, the India example is treated as an unproblematic opportunity rather than a site of contestation (e.g., data colonialism, linguistic bias in NLP, Aadhaar-related exclusions). To deepen the analysis, the essay should integrate concrete case studies, grapple with counterfactuals, and expose the assumptions behind its optimistic and pessimistic claims.\n",
      "\n",
      "Clarity Feedback: Strengths: The essay is well-organized into three clear sections—promise, peril, and prescription—making the argument easy to follow. Transitions between paragraphs are smooth, and the vocabulary is precise and engaging. The use of concrete examples (voice assistants, autonomous vehicles) and global issues (climate change, warfare) grounds the discussion effectively. The final paragraph offers actionable recommendations and ties them to a specific national context (India), which adds depth.\n",
      "\n",
      "Areas for improvement: 1) The introduction could more explicitly state the essay’s thesis (e.g., “This essay argues that…”) to sharpen focus. 2) While the risks are listed, they are not explored in depth; one or two could be expanded with brief illustrations or data. 3) The conclusion repeats earlier phrasing (“human-centric and ethical approach”) without adding new nuance; a forward-looking call to action or a memorable closing thought would strengthen it. 4) Sentence variety is good, but a few longer sentences could be broken up for rhythm and clarity. 5) Minor redundancy: “future of AI also brings with it significant challenges” could be tightened to “AI also presents significant challenges.”\n",
      "\n",
      "Overall, the essay is coherent, logically structured, and communicates complex ideas clearly, but would benefit from deeper elaboration on one or two key challenges and a more distinctive closing.\n",
      "\n",
      "Individual Scores: [6, 8, 9]\n",
      "Average Score: 7.67/10\n"
     ]
    }
   ],
   "source": [
    "# Run the workflow\n",
    "try:\n",
    "    final_state = workflow.invoke(initial_state)\n",
    "    print(\"===  Essay Evaluation Results ===\")\n",
    "    print(final_state['overall_feedback'])\n",
    "except Exception as e:\n",
    "    print(f\"Error running workflow: {e}\")"
   ]
  }
 ],
 "metadata": {
  "kernelspec": {
   "display_name": "myenv",
   "language": "python",
   "name": "python3"
  },
  "language_info": {
   "codemirror_mode": {
    "name": "ipython",
    "version": 3
   },
   "file_extension": ".py",
   "mimetype": "text/x-python",
   "name": "python",
   "nbconvert_exporter": "python",
   "pygments_lexer": "ipython3",
   "version": "3.11.3"
  }
 },
 "nbformat": 4,
 "nbformat_minor": 5
}
