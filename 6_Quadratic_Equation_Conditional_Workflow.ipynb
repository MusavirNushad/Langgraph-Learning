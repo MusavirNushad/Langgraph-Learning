{
 "cells": [
  {
   "cell_type": "markdown",
   "id": "1dcf8da3",
   "metadata": {},
   "source": [
    "# Find Roots of Quadratic Equation using Conditional Workflow"
   ]
  },
  {
   "cell_type": "code",
   "execution_count": 31,
   "id": "be632058",
   "metadata": {},
   "outputs": [],
   "source": [
    "from langgraph.graph import StateGraph, START, END\n",
    "from typing import TypedDict, Literal"
   ]
  },
  {
   "cell_type": "code",
   "execution_count": 32,
   "id": "a4342fb4",
   "metadata": {},
   "outputs": [],
   "source": [
    "class QuadState(TypedDict):\n",
    "    a: int\n",
    "    b: int\n",
    "    c: int\n",
    "    equation: str\n",
    "    discriminant: float\n",
    "    result : str"
   ]
  },
  {
   "cell_type": "code",
   "execution_count": 33,
   "id": "e93116c1",
   "metadata": {},
   "outputs": [],
   "source": [
    "def show_equation(state: QuadState):\n",
    "    equation = f\"{state['a']}x^2 + {state['b']}x + {state['c']} = 0\"\n",
    "    return {'equation': equation}\n",
    "\n",
    "def calculate_discriminant(state: QuadState):\n",
    "    discriminant = state['b']**2 - 4 * state['a'] * state['c']\n",
    "    return {'discriminant': discriminant}"
   ]
  },
  {
   "cell_type": "code",
   "execution_count": null,
   "id": "d7e74767",
   "metadata": {},
   "outputs": [],
   "source": [
    "def real_roots(state: QuadState):\n",
    "  root1 = (-state['b'] + state['discriminant']**0.5) / (2 * state['a'])\n",
    "  root2 = (-state['b'] - state['discriminant']**0.5) / (2 * state['a'])\n",
    "  \n",
    "  result = f\"The roots are real and distinct: {root1} and {root2}\"\n",
    "  return {'result': result}\n",
    "\n",
    "\n",
    "\n",
    "def repeated_roots(state: QuadState):\n",
    "  root = -state['b'] / (2 * state['a'])\n",
    "  \n",
    "  result = f\"The roots are real and repeated: {root}\"\n",
    "  return {'result': result}\n",
    "\n",
    "\n",
    "\n",
    "def complex_roots(state: QuadState):\n",
    "  result = \"The roots are complex and distinct.\"\n",
    "  return {'result': result}"
   ]
  },
  {
   "cell_type": "code",
   "execution_count": 35,
   "id": "460fa7e8",
   "metadata": {},
   "outputs": [],
   "source": [
    "def check_condition(state: QuadState) -> Literal['real_roots', 'repeated_roots', 'complex_roots']:\n",
    "    if state['discriminant'] > 0:\n",
    "        return 'real_roots'\n",
    "    elif state['discriminant'] == 0:\n",
    "        return 'repeated_roots'\n",
    "    else:\n",
    "        return 'complex_roots'"
   ]
  },
  {
   "cell_type": "code",
   "execution_count": 39,
   "id": "405c2f08",
   "metadata": {},
   "outputs": [],
   "source": [
    "graph = StateGraph(QuadState)\n",
    "\n",
    "graph.add_node('show_equation',show_equation)\n",
    "graph.add_node('calculate_discriminant', calculate_discriminant)\n",
    "\n",
    "graph.add_node('real_roots', real_roots)\n",
    "graph.add_node('repeated_roots', repeated_roots)\n",
    "graph.add_node('complex_roots', complex_roots)\n",
    "\n",
    "\n",
    "graph.add_edge(START, 'show_equation')\n",
    "graph.add_edge('show_equation', 'calculate_discriminant')\n",
    "graph.add_conditional_edges('calculate_discriminant', check_condition)\n",
    "graph.add_edge('real_roots', END)\n",
    "graph.add_edge('repeated_roots' , END)\n",
    "graph.add_edge('complex_roots' , END)\n",
    "\n",
    "workflow = graph.compile()"
   ]
  },
  {
   "cell_type": "code",
   "execution_count": 41,
   "id": "25d79338",
   "metadata": {},
   "outputs": [
    {
     "name": "stdout",
     "output_type": "stream",
     "text": [
      "=== Quadratic Equation Results ===\n",
      "2x^2 + 4x + 8 = 0\n",
      "Discriminant: -48\n",
      "The roots are complex and distinct.\n"
     ]
    }
   ],
   "source": [
    "initial_state = {\n",
    "    'a': 2,\n",
    "    'b': 4,\n",
    "    'c': 8\n",
    "}\n",
    "# Run the workflow\n",
    "try:\n",
    "    final_state = workflow.invoke(initial_state)\n",
    "    print(\"=== Quadratic Equation Results ===\")\n",
    "    print(final_state['equation'])\n",
    "    print(f\"Discriminant: {final_state['discriminant']}\")\n",
    "    print(final_state['result'])\n",
    "except Exception as e:\n",
    "    print(f\"Error running workflow: {e}\")\n",
    "    "
   ]
  },
  {
   "cell_type": "code",
   "execution_count": 44,
   "id": "a897b23b",
   "metadata": {},
   "outputs": [
    {
     "data": {
      "image/png": "[encoded data removed]",
      "text/plain": [
       "<IPython.core.display.Image object>"
      ]
     },
     "execution_count": 44,
     "metadata": {},
     "output_type": "execute_result"
    }
   ],
   "source": [
    "from IPython.display import Image\n",
    "Image( workflow.get_graph().draw_mermaid_png())"
   ]
  }
 ],
 "metadata": {
  "kernelspec": {
   "display_name": "myenv",
   "language": "python",
   "name": "python3"
  },
  "language_info": {
   "codemirror_mode": {
    "name": "ipython",
    "version": 3
   },
   "file_extension": ".py",
   "mimetype": "text/x-python",
   "name": "python",
   "nbconvert_exporter": "python",
   "pygments_lexer": "ipython3",
   "version": "3.11.3"
  }
 },
 "nbformat": 4,
 "nbformat_minor": 5
}
